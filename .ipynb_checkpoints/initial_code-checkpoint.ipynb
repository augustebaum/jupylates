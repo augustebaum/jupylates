{
 "cells": [
  {
   "cell_type": "code",
   "execution_count": 4,
   "id": "8bdabfed-db8a-4a90-b4df-09470d30d70b",
   "metadata": {},
   "outputs": [
    {
     "name": "stderr",
     "output_type": "stream",
     "text": [
      "In file included from input_line_15:2:\n",
      "\u001b[1m./randomization.h:24:5: \u001b[0m\u001b[0;1;31merror: \u001b[0m\u001b[1mredefinition of 'RANDOM_INT'\u001b[0m\n",
      "int RANDOM_INT(int min, int max) {\n",
      "\u001b[0;1;32m    ^\n",
      "\u001b[0m\u001b[1m./randomization.h:24:5: \u001b[0m\u001b[0;1;30mnote: \u001b[0mprevious definition is here\u001b[0m\n",
      "int RANDOM_INT(int min, int max) {\n",
      "\u001b[0;1;32m    ^\n",
      "\u001b[0mIn file included from input_line_15:2:\n",
      "\u001b[1m./randomization.h:29:3: \u001b[0m\u001b[0;1;31merror: \u001b[0m\u001b[1mredefinition of 'RANDOM_CHOICE'\u001b[0m\n",
      "T RANDOM_CHOICE(const T arg0, const Args... args) {\n",
      "\u001b[0;1;32m  ^\n",
      "\u001b[0m\u001b[1m./randomization.h:29:3: \u001b[0m\u001b[0;1;30mnote: \u001b[0mprevious definition is here\u001b[0m\n",
      "T RANDOM_CHOICE(const T arg0, const Args... args) {\n",
      "\u001b[0;1;32m  ^\n",
      "\u001b[0mIn file included from input_line_15:2:\n",
      "\u001b[1m./randomization.h:35:6: \u001b[0m\u001b[0;1;31merror: \u001b[0m\u001b[1mredefinition of 'RANDOM_CHOICE'\u001b[0m\n",
      "auto RANDOM_CHOICE(const char * arg0, const Args... args) {\n",
      "\u001b[0;1;32m     ^\n",
      "\u001b[0m\u001b[1m./randomization.h:35:6: \u001b[0m\u001b[0;1;30mnote: \u001b[0mprevious definition is here\u001b[0m\n",
      "auto RANDOM_CHOICE(const char * arg0, const Args... args) {\n",
      "\u001b[0;1;32m     ^\n",
      "\u001b[0mIn file included from input_line_15:2:\n",
      "\u001b[1m./randomization.h:40:7: \u001b[0m\u001b[0;1;31merror: \u001b[0m\u001b[1mredefinition of 'RANDOM_VECTOR_CLASS'\u001b[0m\n",
      "class RANDOM_VECTOR_CLASS {\n",
      "\u001b[0;1;32m      ^\n",
      "\u001b[0m\u001b[1minput_line_8:2:10: \u001b[0m\u001b[0;1;30mnote: \u001b[0m'./randomization.h' included multiple times, additional include site here\u001b[0m\n",
      "#include \"randomization.h\"\n",
      "\u001b[0;1;32m         ^\n",
      "\u001b[0m\u001b[1minput_line_15:2:10: \u001b[0m\u001b[0;1;30mnote: \u001b[0m'./randomization.h' included multiple times, additional include site here\u001b[0m\n",
      "#include \"randomization.h\"\n",
      "\u001b[0;1;32m         ^\n",
      "\u001b[0m\u001b[1m./randomization.h:40:7: \u001b[0m\u001b[0;1;30mnote: \u001b[0munguarded header; consider using #ifdef guards or #pragma once\u001b[0m\n",
      "class RANDOM_VECTOR_CLASS {\n",
      "\u001b[0;1;32m      ^\n",
      "\u001b[0mIn file included from input_line_15:2:\n",
      "\u001b[1m./randomization.h:60:21: \u001b[0m\u001b[0;1;31merror: \u001b[0m\u001b[1mredefinition of 'RANDOM_VECTOR'\u001b[0m\n",
      "RANDOM_VECTOR_CLASS RANDOM_VECTOR;\n",
      "\u001b[0;1;32m                    ^\n",
      "\u001b[0m\u001b[1minput_line_8:2:10: \u001b[0m\u001b[0;1;30mnote: \u001b[0m'./randomization.h' included multiple times, additional include site here\u001b[0m\n",
      "#include \"randomization.h\"\n",
      "\u001b[0;1;32m         ^\n",
      "\u001b[0m\u001b[1minput_line_15:2:10: \u001b[0m\u001b[0;1;30mnote: \u001b[0m'./randomization.h' included multiple times, additional include site here\u001b[0m\n",
      "#include \"randomization.h\"\n",
      "\u001b[0;1;32m         ^\n",
      "\u001b[0m\u001b[1m./randomization.h:60:21: \u001b[0m\u001b[0;1;30mnote: \u001b[0munguarded header; consider using #ifdef guards or #pragma once\u001b[0m\n",
      "RANDOM_VECTOR_CLASS RANDOM_VECTOR;\n",
      "\u001b[0;1;32m                    ^\n",
      "\u001b[0mIn file included from input_line_15:2:\n",
      "\u001b[1m./randomization.h:63:16: \u001b[0m\u001b[0;1;31merror: \u001b[0m\u001b[1mredefinition of 'operator<<'\u001b[0m\n",
      "std::ostream & operator << (std::ostream& o, const std::vector<T> &v) {\n",
      "\u001b[0;1;32m               ^\n",
      "\u001b[0m\u001b[1m./randomization.h:63:16: \u001b[0m\u001b[0;1;30mnote: \u001b[0mprevious definition is here\u001b[0m\n",
      "std::ostream & operator << (std::ostream& o, const std::vector<T> &v) {\n",
      "\u001b[0;1;32m               ^\n",
      "\u001b[0m"
     ]
    },
    {
     "ename": "Interpreter Error",
     "evalue": "",
     "output_type": "error",
     "traceback": [
      "Interpreter Error: "
     ]
    }
   ],
   "source": [
    "/// BEGIN HIDDEN\n",
    "#include <iostream>\n",
    "#include \"randomization.h\"\n",
    "using namespace std;\n",
    "\n",
    "CONST I1 = RANDOM_INT(1,10);\n",
    "\n",
    "/// END HIDDEN\n",
    "  /* Déclarez une variable entière r et affectez lui la valeur I1. */\n",
    "/// BEGIN SOLUTION\n",
    "    int r = I1;\n",
    "/// END SOLUTION\n",
    "/// BEGIN HIDDEN\n",
    "    cout << r << endl;\n",
    "    return 0;\n",
    "/// Objectif Pédagogique : savoit déclarer une variable et prise en main PL_code.\n",
    "/// END HIDDEN"
   ]
  },
  {
   "cell_type": "code",
   "execution_count": null,
   "id": "0e912d67-b9f1-4626-973b-e2938abdc326",
   "metadata": {},
   "outputs": [],
   "source": []
  }
 ],
 "metadata": {
  "kernelspec": {
   "display_name": "C++17",
   "language": "C++17",
   "name": "xcpp17"
  },
  "language_info": {
   "codemirror_mode": "text/x-c++src",
   "file_extension": ".cpp",
   "mimetype": "text/x-c++src",
   "name": "c++",
   "version": "17"
  }
 },
 "nbformat": 4,
 "nbformat_minor": 5
}
