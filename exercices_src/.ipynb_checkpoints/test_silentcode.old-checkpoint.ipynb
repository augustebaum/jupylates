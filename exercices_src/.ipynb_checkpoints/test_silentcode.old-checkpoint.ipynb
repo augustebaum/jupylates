{
 "cells": [
  {
   "cell_type": "code",
   "execution_count": 1,
   "id": "99a994bd-8eab-4ff9-a6c7-eeb34483c5b0",
   "metadata": {
    "editable": true,
    "slideshow": {
     "slide_type": ""
    },
    "tags": [
     "hide-cell"
    ]
   },
   "outputs": [],
   "source": [
    "/// BEGIN HIDDEN\n",
    "#include<iostream>\n",
    "#include \"randomization.h\"\n",
    "\n",
    "CONST C = RANDOM_INT(-2, 2);\n",
    "\n",
    "/// END HIDDEN"
   ]
  },
  {
   "cell_type": "code",
   "execution_count": 2,
   "id": "ae36f72e-8614-4b74-b47c-e8f253a0db9e",
   "metadata": {},
   "outputs": [],
   "source": [
    "int I;\n",
    "// Initialiser la variable I à la valeur C"
   ]
  },
  {
   "cell_type": "code",
   "execution_count": 3,
   "id": "22009b64-d176-4e48-88f5-dff4f91dce41",
   "metadata": {},
   "outputs": [
    {
     "data": {
      "text/plain": [
       "1"
      ]
     },
     "execution_count": 3,
     "metadata": {},
     "output_type": "execute_result"
    }
   ],
   "source": [
    "/// BEGIN SOLUTION\n",
    "I = C;\n",
    "/// END SOLUTION"
   ]
  },
  {
   "cell_type": "code",
   "execution_count": 4,
   "id": "9c63cc69-50d7-4365-a5d0-6b06c77bc159",
   "metadata": {},
   "outputs": [],
   "source": [
    "/// BEGIN HIDDEN\n",
    "CHECK( I == C );\n",
    "/// END HIDDEN"
   ]
  },
  {
   "cell_type": "code",
   "execution_count": null,
   "id": "ef38509c-4070-45cf-8500-8c9cbec52a4e",
   "metadata": {},
   "outputs": [],
   "source": []
  }
 ],
 "metadata": {
  "celltoolbar": "Tags",
  "kernelspec": {
   "display_name": "C++17",
   "language": "C++17",
   "name": "xcpp17"
  },
  "language_info": {
   "codemirror_mode": "text/x-c++src",
   "file_extension": ".cpp",
   "mimetype": "text/x-c++src",
   "name": "c++",
   "version": "17"
  }
 },
 "nbformat": 4,
 "nbformat_minor": 5
}
