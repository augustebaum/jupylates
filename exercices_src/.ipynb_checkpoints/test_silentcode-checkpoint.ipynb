{
 "cells": [
  {
   "cell_type": "code",
   "execution_count": null,
   "id": "8230f66d",
   "metadata": {
    "editable": false,
    "nbgrader": {
     "grade": false,
     "grade_id": "header",
     "locked": true,
     "schema_version": 3,
     "solution": false
    },
    "tags": [
     "hide-cell"
    ]
   },
   "outputs": [],
   "source": [
    "#include<iostream>\n",
    "#include \"randomization.h\"\n",
    "\n",
    "CONST C = RANDOM_INT(-2, 2);"
   ]
  },
  {
   "cell_type": "code",
   "execution_count": null,
   "id": "059819cd",
   "metadata": {
    "nbgrader": {
     "grade": false,
     "grade_id": "init",
     "locked": false,
     "schema_version": 3,
     "solution": false
    }
   },
   "outputs": [],
   "source": [
    "int I;\n",
    "// Initialiser la variable I à la valeur C"
   ]
  },
  {
   "cell_type": "code",
   "execution_count": null,
   "id": "69f18483",
   "metadata": {
    "editable": false,
    "nbgrader": {
     "grade": false,
     "grade_id": "solution",
     "locked": true,
     "schema_version": 3,
     "solution": true
    },
    "tags": [
     "hide-cell"
    ]
   },
   "outputs": [],
   "source": [
    "/// BEGIN SOLUTION\n",
    "I = C;\n",
    "/// END SOLUTION"
   ]
  },
  {
   "cell_type": "code",
   "execution_count": null,
   "id": "6edc05e2",
   "metadata": {
    "editable": false,
    "nbgrader": {
     "grade": true,
     "grade_id": "check",
     "locked": true,
     "points": 1,
     "schema_version": 3,
     "solution": false
    },
    "tags": [
     "hide-cell"
    ]
   },
   "outputs": [],
   "source": [
    "CHECK( I == C );"
   ]
  }
 ],
 "metadata": {
  "jupyter": {
   "jupytext": {
    "text_representation": {
     "extension": ".md",
     "format_name": "myst"
    }
   }
  },
  "kernelspec": {
   "display_name": "C++17",
   "language": "C++17",
   "name": "xcpp17"
  },
  "language_info": {
   "codemirror_mode": "text/x-c++src",
   "file_extension": ".cpp",
   "mimetype": "text/x-c++src",
   "name": "c++",
   "version": "17"
  }
 },
 "nbformat": 4,
 "nbformat_minor": 5
}
