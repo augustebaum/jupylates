{
 "cells": [
  {
   "cell_type": "code",
   "execution_count": null,
   "id": "35dd5e20-ff13-4bef-876b-49b8fedfd684",
   "metadata": {
    "editable": true,
    "slideshow": {
     "slide_type": ""
    },
    "tags": []
   },
   "outputs": [],
   "source": [
    "import glob\n",
    "from exercizer import Exercizer\n",
    "exercizer = Exercizer(glob.glob(\"*/py*.ipynb\"))\n",
    "exercizer"
   ]
  },
  {
   "cell_type": "code",
   "execution_count": null,
   "id": "f97b4af2-0043-41d4-81e2-3640d28b06de",
   "metadata": {},
   "outputs": [],
   "source": []
  }
 ],
 "metadata": {
  "kernelspec": {
   "display_name": "Python 3 (ipykernel)",
   "language": "python",
   "name": "python3"
  },
  "language_info": {
   "codemirror_mode": {
    "name": "ipython",
    "version": 3
   },
   "file_extension": ".py",
   "mimetype": "text/x-python",
   "name": "python",
   "nbconvert_exporter": "python",
   "pygments_lexer": "ipython3",
   "version": "3.12.0"
  }
 },
 "nbformat": 4,
 "nbformat_minor": 5
}
