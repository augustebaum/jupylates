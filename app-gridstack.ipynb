{
 "cells": [
  {
   "cell_type": "markdown",
   "id": "53f30722",
   "metadata": {},
   "source": [
    "# Gridstack app demo\n",
    "\n",
    "Usage:\n",
    "```\n",
    "pip install jupyter-app-launcher\n",
    "```\n",
    "\n",
    "Open With -> Notebook GridStack"
   ]
  },
  {
   "cell_type": "code",
   "execution_count": null,
   "id": "ecaff033-3bde-49da-ba27-02a0eb28ed72",
   "metadata": {},
   "outputs": [],
   "source": [
    "import glob\n",
    "from jupylates import Exerciser\n",
    "Exerciser(glob.glob(\"examples/*.md\"), mode=\"train\")"
   ]
  }
 ],
 "metadata": {
  "kernelspec": {
   "display_name": "Python 3 (ipykernel)",
   "language": "python",
   "name": "python3"
  },
  "language_info": {
   "codemirror_mode": {
    "name": "ipython",
    "version": 3
   },
   "file_extension": ".py",
   "mimetype": "text/x-python",
   "name": "python",
   "nbconvert_exporter": "python",
   "pygments_lexer": "ipython3",
   "version": "3.11.8"
  }
 },
 "nbformat": 4,
 "nbformat_minor": 5
}
