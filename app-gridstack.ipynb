{
 "cells": [
  {
   "cell_type": "markdown",
   "id": "53f30722",
   "metadata": {},
   "source": [
    "# Gridstack app demo\n",
    "\n",
    "Usage:\n",
    "```\n",
    "pip install jupyter-app-launcher\n",
    "```\n",
    "\n",
    "Open With -> Notebook GridStack"
   ]
  },
  {
   "cell_type": "code",
   "execution_count": null,
   "id": "c214269d-76ad-4e6c-bc37-d20535696761",
   "metadata": {
    "extensions": {
     "jupyter_dashboards": {
      "version": 1,
      "views": {
       "grid_default": {
        "col": 0,
        "height": 20,
        "hidden": false,
        "locked": false,
        "row": 0,
        "width": 12
       },
       "report_default": {
        "hidden": false
       }
      }
     }
    }
   },
   "outputs": [],
   "source": [
    "import glob\n",
    "from jupylates import Exerciser\n",
    "thèmes = {\n",
    "    'Variables': 'variable/*.md',\n",
    "    'Arithmétique': 'arithmetic/*.md',\n",
    "    'Expressions booléennes': 'bool/*.md',\n",
    "    'Conditionnelles': 'if/*.md',\n",
    "    'Conditionnelles filées': 'elseif/*.md',\n",
    "    'Boucles for': 'for/*.md',\n",
    "    'Boucles for imbriquées': 'fornested/*.md',\n",
    "    'Boucles while': 'while/*.md',\n",
    "    'Prototypes de fonctions': 'function_prototype/*.md',\n",
    "    'Tests de fonctions': 'function_test/*.md',\n",
    "    'Flux et fichiers': 'stream/*.md',\n",
    "    'Tous les thèmes': '*/*.md',\n",
    "}\n",
    "Exerciser({thème: glob.glob(f)\n",
    "           for thème, f in thèmes.items()},\n",
    "          mode=\"train\")"
   ]
  }
 ],
 "metadata": {
  "kernelspec": {
   "display_name": "Python 3 (ipykernel)",
   "language": "python",
   "name": "python3"
  },
  "language_info": {
   "codemirror_mode": {
    "name": "ipython",
    "version": 3
   },
   "file_extension": ".py",
   "mimetype": "text/x-python",
   "name": "python",
   "nbconvert_exporter": "python",
   "pygments_lexer": "ipython3",
   "version": "3.11.6"
  }
 },
 "nbformat": 4,
 "nbformat_minor": 5
}
