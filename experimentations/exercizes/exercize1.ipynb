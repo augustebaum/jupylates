{
 "cells": [
  {
   "cell_type": "markdown",
   "id": "e8f58c54-59d2-40b9-bce3-d45af9079c3e",
   "metadata": {
    "editable": false,
    "slideshow": {
     "slide_type": ""
    },
    "tags": []
   },
   "source": [
    "# Exercise\n",
    "\n",
    ":::{admonition} Consigne\n",
    "\n",
    "Quelle est la valeur de `r` après exécution du code suivant?\n",
    "\n",
    ":::"
   ]
  },
  {
   "cell_type": "markdown",
   "id": "495e342b-21da-4419-98a2-bd6f244cf17d",
   "metadata": {
    "answer": "output",
    "editable": true,
    "slideshow": {
     "slide_type": ""
    },
    "tags": [
     "answer"
    ]
   },
   "source": [
    "<Votre réponse ici>"
   ]
  },
  {
   "cell_type": "code",
   "execution_count": null,
   "id": "dbba02f9-d4e9-488a-9fa8-3a44c5bfd9ae",
   "metadata": {
    "editable": false,
    "slideshow": {
     "slide_type": ""
    },
    "tags": []
   },
   "outputs": [],
   "source": [
    "r = 41;"
   ]
  },
  {
   "cell_type": "code",
   "execution_count": 1,
   "id": "abd0a899-9279-4477-a5b6-f879fe95a666",
   "metadata": {
    "editable": false,
    "slideshow": {
     "slide_type": ""
    },
    "tags": []
   },
   "outputs": [
    {
     "ename": "NameError",
     "evalue": "name 'r' is not defined",
     "output_type": "error",
     "traceback": [
      "\u001b[0;31m---------------------------------------------------------------------------\u001b[0m",
      "\u001b[0;31mNameError\u001b[0m                                 Traceback (most recent call last)",
      "Cell \u001b[0;32mIn[1], line 1\u001b[0m\n\u001b[0;32m----> 1\u001b[0m r \u001b[38;5;241m=\u001b[39m \u001b[43mr\u001b[49m \u001b[38;5;241m+\u001b[39m \u001b[38;5;241m1\u001b[39m;\n",
      "\u001b[0;31mNameError\u001b[0m: name 'r' is not defined"
     ]
    }
   ],
   "source": [
    "r = r + 1;"
   ]
  },
  {
   "cell_type": "code",
   "execution_count": null,
   "id": "4b772f4f-1073-42fc-b5cd-51d70d1a409f",
   "metadata": {
    "editable": true,
    "nbgrader": {
     "grade": false,
     "grade_id": "cell-5ab67643ff0e09b3",
     "locked": false,
     "schema_version": 3,
     "solution": true,
     "task": false
    },
    "slideshow": {
     "slide_type": ""
    },
    "tags": [
     "hidden",
     "answer"
    ]
   },
   "outputs": [],
   "source": [
    "assert r == answer"
   ]
  }
 ],
 "metadata": {
  "kernelspec": {
   "display_name": "Python 3 (ipykernel)",
   "language": "python",
   "name": "python3"
  },
  "language_info": {
   "codemirror_mode": {
    "name": "ipython",
    "version": 3
   },
   "file_extension": ".py",
   "mimetype": "text/x-python",
   "name": "python",
   "nbconvert_exporter": "python",
   "pygments_lexer": "ipython3",
   "version": "3.11.6"
  }
 },
 "nbformat": 4,
 "nbformat_minor": 5
}
