{
 "cells": [
  {
   "cell_type": "markdown",
   "id": "e8f58c54-59d2-40b9-bce3-d45af9079c3e",
   "metadata": {
    "editable": true,
    "slideshow": {
     "slide_type": ""
    },
    "tags": []
   },
   "source": [
    "# Exercise\n",
    "\n",
    ":::{admonition} Consigne\n",
    "\n",
    "Quelle est la valeur de `r` après exécution du code suivant en C++?\n",
    "\n",
    ":::"
   ]
  },
  {
   "cell_type": "code",
   "execution_count": null,
   "id": "1ecf01eb-341d-448d-87b1-51d6504d28fd",
   "metadata": {
    "editable": true,
    "slideshow": {
     "slide_type": ""
    },
    "tags": [
     "hidden"
    ]
   },
   "outputs": [],
   "source": [
    "#define CHECK(C) if ( !(C) ) { throw std::runtime_error(\"\\x1b[48;5;224mTest failed: \"#C); }"
   ]
  },
  {
   "cell_type": "code",
   "execution_count": null,
   "id": "d1af7bd4-6071-42c0-b12f-a3f3875f9704",
   "metadata": {
    "answer": "output",
    "editable": true,
    "slideshow": {
     "slide_type": ""
    },
    "tags": [
     "answer"
    ]
   },
   "outputs": [],
   "source": [
    "auto answer = 42"
   ]
  },
  {
   "cell_type": "code",
   "execution_count": null,
   "id": "dbba02f9-d4e9-488a-9fa8-3a44c5bfd9ae",
   "metadata": {
    "slideshow": {
     "slide_type": ""
    },
    "tags": []
   },
   "outputs": [],
   "source": [
    "auto r = 41;"
   ]
  },
  {
   "cell_type": "code",
   "execution_count": null,
   "id": "abd0a899-9279-4477-a5b6-f879fe95a666",
   "metadata": {
    "editable": false,
    "slideshow": {
     "slide_type": ""
    },
    "tags": []
   },
   "outputs": [],
   "source": [
    "r = r + 1;"
   ]
  },
  {
   "cell_type": "code",
   "execution_count": null,
   "id": "4b772f4f-1073-42fc-b5cd-51d70d1a409f",
   "metadata": {
    "editable": true,
    "nbgrader": {
     "grade": false,
     "grade_id": "cell-5ab67643ff0e09b3",
     "locked": false,
     "schema_version": 3,
     "solution": true,
     "task": false
    },
    "slideshow": {
     "slide_type": ""
    },
    "tags": [
     "hidden"
    ]
   },
   "outputs": [],
   "source": [
    "CHECK( r == answer );"
   ]
  }
 ],
 "metadata": {
  "kernelspec": {
   "display_name": "C++17",
   "language": "C++17",
   "name": "xcpp17"
  },
  "language_info": {
   "codemirror_mode": "text/x-c++src",
   "file_extension": ".cpp",
   "mimetype": "text/x-c++src",
   "name": "c++",
   "version": "17"
  }
 },
 "nbformat": 4,
 "nbformat_minor": 5
}
