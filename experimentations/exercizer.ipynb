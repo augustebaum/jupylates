{
 "cells": [
  {
   "cell_type": "code",
   "execution_count": 113,
   "id": "35dd5e20-ff13-4bef-876b-49b8fedfd684",
   "metadata": {
    "editable": true,
    "slideshow": {
     "slide_type": ""
    },
    "tags": []
   },
   "outputs": [
    {
     "data": {
      "application/vnd.jupyter.widget-view+json": {
       "model_id": "501740092dec4b0d8aa24a6b8afa7415",
       "version_major": 2,
       "version_minor": 0
      },
      "text/plain": [
       "Exercizer(children=(Output(), HBox(children=(Button(description='Run', style=ButtonStyle()), Label(value=''), …"
      ]
     },
     "execution_count": 113,
     "metadata": {},
     "output_type": "execute_result"
    }
   ],
   "source": [
    "from exercizer import Exercizer\n",
    "exercizer = Exercizer(glob.glob(\"exercizes/*.ipynb\"))\n",
    "exercizer"
   ]
  },
  {
   "cell_type": "code",
   "execution_count": null,
   "id": "0aa7c407-a169-4f38-96af-208f8cf0c633",
   "metadata": {},
   "outputs": [],
   "source": []
  }
 ],
 "metadata": {
  "kernelspec": {
   "display_name": "Python 3 (ipykernel)",
   "language": "python",
   "name": "python3"
  },
  "language_info": {
   "codemirror_mode": {
    "name": "ipython",
    "version": 3
   },
   "file_extension": ".py",
   "mimetype": "text/x-python",
   "name": "python",
   "nbconvert_exporter": "python",
   "pygments_lexer": "ipython3",
   "version": "3.11.6"
  }
 },
 "nbformat": 4,
 "nbformat_minor": 5
}
